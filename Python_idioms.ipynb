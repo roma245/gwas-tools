{
 "cells": [
  {
   "cell_type": "markdown",
   "metadata": {
    "slideshow": {
     "slide_type": "slide"
    }
   },
   "source": [
    "# Идиомы Python\n",
    "## культура написания кода\n"
   ]
  },
  {
   "cell_type": "markdown",
   "metadata": {
    "slideshow": {
     "slide_type": "slide"
    }
   },
   "source": [
    "# Идиома\n",
    "устойчивый оборот, специфичный для языка"
   ]
  },
  {
   "cell_type": "markdown",
   "metadata": {
    "slideshow": {
     "slide_type": "slide"
    }
   },
   "source": [
    "# Зачем нужны идиомы в программировании\n",
    "\n",
    "* не удивлять читателя\n",
    "* расставлять акценты\n",
    "* не делать глупых ошибок\n",
    "* использовать лучшие практики\n",
    "* ...\n"
   ]
  },
  {
   "cell_type": "markdown",
   "metadata": {
    "slideshow": {
     "slide_type": "slide"
    }
   },
   "source": [
    "# Идиома: code style\n",
    "\n",
    "* Readability counts.\n",
    "* Beautiful is better than ugly.\n",
    "* If the implementation is hard to explain, it's a bad idea.\n",
    "  If the implementation is easy to explain, it may be a good idea\n"
   ]
  },
  {
   "cell_type": "markdown",
   "metadata": {
    "slideshow": {
     "slide_type": "subslide"
    }
   },
   "source": [
    "# Python code style\n",
    "\n",
    "* PEP8, PEP257\n",
    "http://pep8.org\n",
    "* google python code style\n",
    "\n"
   ]
  },
  {
   "cell_type": "markdown",
   "metadata": {
    "slideshow": {
     "slide_type": "subslide"
    }
   },
   "source": [
    "* какой выбрать? \n",
    "* тот, к которому есть автоматические проверялки"
   ]
  },
  {
   "cell_type": "markdown",
   "metadata": {
    "slideshow": {
     "slide_type": "slide"
    }
   },
   "source": [
    "# pep8:  инструменты\n",
    "\n",
    "проверка:\n",
    "* PyCharm,  \n",
    "* pep8, \n",
    "* pyflake,\n",
    "* pylint"
   ]
  },
  {
   "cell_type": "markdown",
   "metadata": {
    "slideshow": {
     "slide_type": "subslide"
    }
   },
   "source": [
    "автоматическое исправление:\n",
    "* PyCharm Ctrl+Alt+L ⌥⌘L\n",
    "* консольный autopep8"
   ]
  },
  {
   "cell_type": "markdown",
   "metadata": {
    "slideshow": {
     "slide_type": "slide"
    }
   },
   "source": [
    "# pep8: длина строки\n",
    "\n",
    "* 79 символов на строку\n",
    "* 72 на комментарии и докстринги\n",
    "* исключения: урлы, строки конфигов, длинные импорты"
   ]
  },
  {
   "cell_type": "markdown",
   "metadata": {
    "slideshow": {
     "slide_type": "subslide"
    }
   },
   "source": [
    "зачем так?\n",
    "\n",
    "* концентрация внимания читателя, \n",
    "* удобная работа в специальных инструментах c вертикальным сплитом экрана (github diff)"
   ]
  },
  {
   "cell_type": "markdown",
   "metadata": {
    "slideshow": {
     "slide_type": "slide"
    }
   },
   "source": [
    "# идентификаторы\n",
    "\n",
    "* задают интерфейс\n",
    "* непонятный идентификатор = сломанный интерфейс"
   ]
  },
  {
   "cell_type": "markdown",
   "metadata": {
    "slideshow": {
     "slide_type": "subslide"
    }
   },
   "source": [
    "* семантика имён = что делает этот код?\n",
    "* оформление = как использовать этот код?"
   ]
  },
  {
   "cell_type": "markdown",
   "metadata": {
    "slideshow": {
     "slide_type": "slide"
    }
   },
   "source": [
    "# подчёркивания в идентификаторах\n",
    "\n",
    "* `function_method_or_variable`\n",
    "* `_protected`\n",
    "* `__private_in_heir`\n",
    "* конфликт с зарезервированным словом: `format_`, `buffer_`, `class_`\n",
    "* `__magic_method__`\n"
   ]
  },
  {
   "cell_type": "markdown",
   "metadata": {
    "slideshow": {
     "slide_type": "slide"
    }
   },
   "source": [
    "* `ClassName`, `ExceptionName`\n",
    "* `GLOBAL_CONST_VARIABLE`\n",
    "* первый аргумент `self` и `cls` для методов класса\n"
   ]
  },
  {
   "cell_type": "markdown",
   "metadata": {
    "slideshow": {
     "slide_type": "slide"
    }
   },
   "source": [
    "# identificator best practices\n",
    "\n",
    "* у одной функции - одна задача\n",
    "* имя функции начинается с глагола: `do_something()`\n",
    "* булева функция начинается с глагола во второй форме: `is_ready()`, `has_key()`\n",
    "* сокращения ухудшают читаемость (кроме широко употребимых: http)\n",
    "* имя `temp`/`tmp` - плохая идея\n",
    "* не перекрывать встроенные имена\n"
   ]
  },
  {
   "cell_type": "markdown",
   "metadata": {
    "slideshow": {
     "slide_type": "slide"
    }
   },
   "source": [
    "# комментарии и docstrings\n",
    "\n",
    "`+` разъясняют код\n",
    "\n",
    "`-` сложно их поддерживать актуальными\n",
    "\n",
    "`-` визуально захламляют код\n"
   ]
  },
  {
   "cell_type": "markdown",
   "metadata": {
    "slideshow": {
     "slide_type": "slide"
    }
   },
   "source": [
    "правила:\n",
    "* обязательно писать комменатрии для толкования неочевидных решений\n",
    "* никогда не писать очевидные комментарии и docstrings\n",
    "\n",
    "принцип: \n",
    "* комментарии не нужны, при качественном проектировании интерфейсов, говорящих именах переменных и т.д.\n"
   ]
  },
  {
   "cell_type": "markdown",
   "metadata": {
    "slideshow": {
     "slide_type": "slide"
    }
   },
   "source": [
    "# Строка не влезает в ограничение\n"
   ]
  },
  {
   "cell_type": "code",
   "execution_count": null,
   "metadata": {
    "slideshow": {
     "slide_type": "slide"
    }
   },
   "outputs": [],
   "source": [
    "# не влезло в экран\n",
    "default_appointment = models.ForeignKey(othermodel='AppointmentType', null=True, on_delete=models.SET_NULL, related_name='+')\n",
    "\n",
    "# влезло, но придётся менять отступы если имя функции надо переименовать\n",
    "default_appointment = models.ForeignKey(othermodel='AppointmentType',\n",
    "                                        null=True,\n",
    "                                        on_delete=models.SET_NULL,\n",
    "                                        related_name='+'\n",
    ")\n",
    "\n",
    "# влезло и отступы не придётся менять\n",
    "default_appointment = models.ForeignKey(\n",
    "    othermodel='AppointmentType',\n",
    "    null=True,\n",
    "    on_delete=models.SET_NULL,\n",
    "    related_name='+'\n",
    ")"
   ]
  },
  {
   "cell_type": "code",
   "execution_count": null,
   "metadata": {
    "slideshow": {
     "slide_type": "subslide"
    }
   },
   "outputs": [],
   "source": [
    "# плохо\n",
    "employee_hours = [schedule.earliest_hour for employee in self.public_employees for schedule in employee.schedules]\n",
    "\n",
    "# лучше\n",
    "employee_hours = [\n",
    "    schedule.earliest_hour\n",
    "    for employee in self.public_employees\n",
    "    for schedule in employee.schedules\n",
    "]"
   ]
  },
  {
   "cell_type": "code",
   "execution_count": null,
   "metadata": {
    "collapsed": true,
    "slideshow": {
     "slide_type": "subslide"
    }
   },
   "outputs": [],
   "source": [
    "# нечитаемо\n",
    "books = Book.objects.filter(author__in=favorite_authors).select_related('author', 'publisher').order_by('title')\n",
    "\n",
    "# на любителя\n",
    "books = Book.objects.filter(\n",
    "    author__in=favorite_authors\n",
    ").select_related(\n",
    "    'author', 'publisher'\n",
    ").order_by('title')\n",
    "\n",
    "# лучше! но легко ошибиться с завершающим пробелом\n",
    "books = Book\\\n",
    "    .objects\\\n",
    "    .filter(author__in=favorite_authors)\\\n",
    "    .select_related('author', 'publisher')\\\n",
    "    .order_by('title')\n",
    "\n",
    "\n",
    "# победитель\n",
    "books = (Book.objects\n",
    "    .filter(author__in=favorite_authors)\n",
    "    .select_related('author', 'publisher')\n",
    "    .order_by('title')\n",
    ")"
   ]
  },
  {
   "cell_type": "markdown",
   "metadata": {
    "slideshow": {
     "slide_type": "slide"
    }
   },
   "source": [
    "# Циклы\n"
   ]
  },
  {
   "cell_type": "markdown",
   "metadata": {
    "slideshow": {
     "slide_type": "subslide"
    }
   },
   "source": [
    "## c-style"
   ]
  },
  {
   "cell_type": "code",
   "execution_count": null,
   "metadata": {
    "slideshow": {
     "slide_type": "-"
    }
   },
   "outputs": [],
   "source": [
    "array = [1, 2, 3, 10]\n",
    "\n",
    "# с-style:\n",
    "i = 0\n",
    "while i != len(array):\n",
    "    print(array[i])\n",
    "    i += 1"
   ]
  },
  {
   "cell_type": "code",
   "execution_count": null,
   "metadata": {
    "slideshow": {
     "slide_type": "slide"
    }
   },
   "outputs": [],
   "source": [
    "# c-style 2: \n",
    "for i in range(len(array)): \n",
    "    print(array[i])"
   ]
  },
  {
   "cell_type": "markdown",
   "metadata": {
    "slideshow": {
     "slide_type": "fragment"
    }
   },
   "source": [
    "- рассеивание внимания \n",
    "- так нельзя итерироваться по dict/set/generator (iterable, but not sequence)"
   ]
  },
  {
   "cell_type": "markdown",
   "metadata": {
    "slideshow": {
     "slide_type": "slide"
    }
   },
   "source": [
    "## python-style"
   ]
  },
  {
   "cell_type": "code",
   "execution_count": null,
   "metadata": {},
   "outputs": [],
   "source": [
    "# python style:\n",
    "\n",
    "for number in array: \n",
    "    print(number)"
   ]
  },
  {
   "cell_type": "markdown",
   "metadata": {
    "slideshow": {
     "slide_type": "fragment"
    }
   },
   "source": [
    " + внимание на семантику \n",
    " + можно итерироваться по всему итерируемому"
   ]
  },
  {
   "cell_type": "markdown",
   "metadata": {
    "slideshow": {
     "slide_type": "slide"
    }
   },
   "source": [
    "## enumerate"
   ]
  },
  {
   "cell_type": "code",
   "execution_count": null,
   "metadata": {
    "slideshow": {
     "slide_type": "fragment"
    }
   },
   "outputs": [],
   "source": [
    "# если индекс всё-таки нужен\n",
    "\n",
    "for i, number in enumerate(array):\n",
    "    print(i, number)"
   ]
  },
  {
   "cell_type": "code",
   "execution_count": null,
   "metadata": {
    "slideshow": {
     "slide_type": "fragment"
    }
   },
   "outputs": [],
   "source": [
    "for i, number in enumerate(array, start=1):\n",
    "    print(i, number)"
   ]
  },
  {
   "cell_type": "markdown",
   "metadata": {
    "slideshow": {
     "slide_type": "slide"
    }
   },
   "source": [
    "## zip"
   ]
  },
  {
   "cell_type": "code",
   "execution_count": null,
   "metadata": {
    "collapsed": true,
    "slideshow": {
     "slide_type": "fragment"
    }
   },
   "outputs": [],
   "source": [
    "# итерация по нескольким источникам\n",
    "\n",
    "numbers = [1, 2, 3]\n",
    "letters = [\"A\", \"B\", \"C\"]"
   ]
  },
  {
   "cell_type": "code",
   "execution_count": null,
   "metadata": {
    "slideshow": {
     "slide_type": "fragment"
    }
   },
   "outputs": [],
   "source": [
    "# bad\n",
    "for index in range(len(numbers)):\n",
    "    print(numbers[index], letters[index])"
   ]
  },
  {
   "cell_type": "code",
   "execution_count": null,
   "metadata": {
    "slideshow": {
     "slide_type": "fragment"
    }
   },
   "outputs": [],
   "source": [
    "# good\n",
    "for numbers_value, letters_value in zip(numbers, letters):\n",
    "    print(numbers_value, letters_value)"
   ]
  },
  {
   "cell_type": "code",
   "execution_count": null,
   "metadata": {
    "slideshow": {
     "slide_type": "slide"
    }
   },
   "outputs": [],
   "source": [
    "array_x = (1, 2, 3)\n",
    "array_y = (2, 4, 6)\n",
    "array_z = (0, 0, 0)\n",
    "\n",
    "# сколько угодно источников\n",
    "\n",
    "for x, y, z in zip(array_x, array_y, array_z): \n",
    "    print(x + y - z)"
   ]
  },
  {
   "cell_type": "code",
   "execution_count": null,
   "metadata": {
    "slideshow": {
     "slide_type": "fragment"
    }
   },
   "outputs": [],
   "source": [
    "arrays = [array_x, array_y, array_z]\n",
    "\n",
    "for *added, z in zip(*arrays):\n",
    "    print(added[0] + added[1] - z)"
   ]
  },
  {
   "cell_type": "markdown",
   "metadata": {
    "slideshow": {
     "slide_type": "slide"
    }
   },
   "source": [
    "## reversed"
   ]
  },
  {
   "cell_type": "code",
   "execution_count": null,
   "metadata": {
    "slideshow": {
     "slide_type": "fragment"
    }
   },
   "outputs": [],
   "source": [
    "array = [1, 2, 3, 7, 5]\n",
    "\n",
    "# эффективное обращение\n",
    "for e in reversed(array):\n",
    "    print(e)"
   ]
  },
  {
   "cell_type": "markdown",
   "metadata": {
    "slideshow": {
     "slide_type": "slide"
    }
   },
   "source": [
    "## sorted"
   ]
  },
  {
   "cell_type": "code",
   "execution_count": null,
   "metadata": {
    "slideshow": {
     "slide_type": "fragment"
    }
   },
   "outputs": [],
   "source": [
    "# сортировка без модификации исходного массива\n",
    "for e in sorted(array):\n",
    "    print(e)\n",
    "    \n",
    "print(array)"
   ]
  },
  {
   "cell_type": "markdown",
   "metadata": {
    "collapsed": true,
    "slideshow": {
     "slide_type": "slide"
    }
   },
   "source": [
    "## нужен текущий элемент и предыдущий"
   ]
  },
  {
   "cell_type": "code",
   "execution_count": null,
   "metadata": {
    "slideshow": {
     "slide_type": "fragment"
    }
   },
   "outputs": [],
   "source": [
    "# magic ???\n",
    "for current, next_ in magic(array):\n",
    "    print (current + next_)"
   ]
  },
  {
   "cell_type": "markdown",
   "metadata": {
    "collapsed": true,
    "slideshow": {
     "slide_type": "fragment"
    }
   },
   "source": [
    "нет готового рецепта\n",
    "\n",
    "проще всего сделать свой генератор (yield-синтасис, будет рассмотрен на следующих занятиях)\n",
    "\n",
    "допустимо: испозование индекса через enumerate\n",
    "\n",
    "плохо: zip по массиву и slice (неэффективно или слишком сложно)"
   ]
  },
  {
   "cell_type": "markdown",
   "metadata": {
    "collapsed": true,
    "slideshow": {
     "slide_type": "slide"
    }
   },
   "source": [
    "# Словари\n",
    "фундаментальная идиома Python\n",
    "\n",
    "Универсальное средство для выражения связей между объектами, подсчёта, группировки."
   ]
  },
  {
   "cell_type": "code",
   "execution_count": null,
   "metadata": {
    "slideshow": {
     "slide_type": "slide"
    }
   },
   "outputs": [],
   "source": [
    "# итерация по словарю\n",
    "dictionary = {'a': 1, 'b': 2, 'c': 3}\n",
    "\n",
    "for k in dictionary:\n",
    "    print(k)"
   ]
  },
  {
   "cell_type": "code",
   "execution_count": null,
   "metadata": {
    "slideshow": {
     "slide_type": "fragment"
    }
   },
   "outputs": [],
   "source": [
    "for k in dictionary:\n",
    "    if k < 'b':\n",
    "        del dictionary[k]"
   ]
  },
  {
   "cell_type": "code",
   "execution_count": null,
   "metadata": {
    "slideshow": {
     "slide_type": "slide"
    }
   },
   "outputs": [],
   "source": [
    "for k, v in dictionary.items():\n",
    "    print(k, v)\n",
    "\n",
    "# iteritems() for python 2"
   ]
  },
  {
   "cell_type": "code",
   "execution_count": null,
   "metadata": {
    "collapsed": true,
    "slideshow": {
     "slide_type": "slide"
    }
   },
   "outputs": [],
   "source": [
    "# конструкторы:\n",
    "dictionary = dict(a=1, b=2, c=3)\n",
    "\n",
    "dictionary = dict(zip(keys, values))"
   ]
  },
  {
   "cell_type": "markdown",
   "metadata": {
    "slideshow": {
     "slide_type": "slide"
    }
   },
   "source": [
    "## безопасное извлечение элемента"
   ]
  },
  {
   "cell_type": "code",
   "execution_count": null,
   "metadata": {
    "slideshow": {
     "slide_type": "fragment"
    }
   },
   "outputs": [],
   "source": [
    "# get\n",
    "\n",
    "# bad:\n",
    "dictionary = {\"message\": \"Hello, World!\"}\n",
    "\n",
    "data = \"\"\n",
    "\n",
    "if \"message\" in dictionary:\n",
    "    data = dictionary[\"message\"]\n",
    "\n",
    "print(data)  # Hello, World!"
   ]
  },
  {
   "cell_type": "code",
   "execution_count": null,
   "metadata": {
    "slideshow": {
     "slide_type": "fragment"
    }
   },
   "outputs": [],
   "source": [
    "# good:\n",
    "dictionary = {\"message\": \"Hello, World!\"}\n",
    "\n",
    "data = dictionary.get(\"message\", \"\")\n",
    "\n",
    "print(data)  # Hello, World!"
   ]
  },
  {
   "cell_type": "markdown",
   "metadata": {
    "slideshow": {
     "slide_type": "slide"
    }
   },
   "source": [
    "## назначить дефолтное значение"
   ]
  },
  {
   "cell_type": "code",
   "execution_count": null,
   "metadata": {
    "slideshow": {
     "slide_type": "fragment"
    }
   },
   "outputs": [],
   "source": [
    "# default_dict\n",
    "# bad:\n",
    "d = {}\n",
    "\n",
    "if \"k\" not in d:\n",
    "    d[\"k\"] = 6\n",
    "\n",
    "d[\"k\"] += 1\n",
    "\n",
    "print(d[\"k\"])"
   ]
  },
  {
   "cell_type": "code",
   "execution_count": null,
   "metadata": {
    "slideshow": {
     "slide_type": "fragment"
    }
   },
   "outputs": [],
   "source": [
    "# good:\n",
    "from collections import defaultdict\n",
    "\n",
    "d = defaultdict(lambda : 6)\n",
    "d[\"k\"] += 1\n",
    "\n",
    "print(d[\"k\"])  # 7"
   ]
  },
  {
   "cell_type": "markdown",
   "metadata": {
    "slideshow": {
     "slide_type": "fragment"
    }
   },
   "source": [
    "минусы: не dict, можно обмануться"
   ]
  },
  {
   "cell_type": "markdown",
   "metadata": {
    "slideshow": {
     "slide_type": "slide"
    }
   },
   "source": [
    "## назначить дефолное значение"
   ]
  },
  {
   "cell_type": "code",
   "execution_count": null,
   "metadata": {
    "collapsed": true,
    "slideshow": {
     "slide_type": "fragment"
    }
   },
   "outputs": [],
   "source": [
    "# bad:\n",
    "dictionary = {}\n",
    "\n",
    "if \"list\" not in dictionary:\n",
    "    dictionary[\"list\"] = []\n",
    "\n",
    "dictionary[\"list\"].append(\"list_item\")"
   ]
  },
  {
   "cell_type": "code",
   "execution_count": null,
   "metadata": {
    "collapsed": true,
    "slideshow": {
     "slide_type": "fragment"
    }
   },
   "outputs": [],
   "source": [
    "# good:\n",
    "dictionary = {}\n",
    "\n",
    "dictionary.setdefault(\"list\", []).append(\"list_item\")"
   ]
  },
  {
   "cell_type": "markdown",
   "metadata": {
    "slideshow": {
     "slide_type": "slide"
    }
   },
   "source": [
    "## dict comprehension"
   ]
  },
  {
   "cell_type": "code",
   "execution_count": 40,
   "metadata": {
    "slideshow": {
     "slide_type": "fragment"
    }
   },
   "outputs": [
    {
     "name": "stdout",
     "output_type": "stream",
     "text": [
      "{1: 2, 2: 4, 3: 6}\n"
     ]
    }
   ],
   "source": [
    "numbers = [1,2,3]\n",
    "\n",
    "# hard to read\n",
    "my_dict = dict([(number, number*2) for number in numbers])\n",
    "\n",
    "print(my_dict)"
   ]
  },
  {
   "cell_type": "code",
   "execution_count": 42,
   "metadata": {
    "slideshow": {
     "slide_type": "fragment"
    }
   },
   "outputs": [
    {
     "name": "stdout",
     "output_type": "stream",
     "text": [
      "{1: 2, 2: 4, 3: 6}\n"
     ]
    }
   ],
   "source": [
    "# good\n",
    "my_dict = {number: number * 2 for number in numbers}\n",
    "\n",
    "print(my_dict)"
   ]
  },
  {
   "cell_type": "markdown",
   "metadata": {
    "slideshow": {
     "slide_type": "slide"
    }
   },
   "source": [
    "## печать"
   ]
  },
  {
   "cell_type": "code",
   "execution_count": null,
   "metadata": {
    "slideshow": {
     "slide_type": "fragment"
    }
   },
   "outputs": [],
   "source": [
    "import pprint\n",
    "pprint.pprint(my_dict)"
   ]
  },
  {
   "cell_type": "code",
   "execution_count": null,
   "metadata": {
    "collapsed": true,
    "slideshow": {
     "slide_type": "slide"
    }
   },
   "outputs": [],
   "source": [
    "pprint.pprint(project_info)\n",
    "{'info': {'_pypi_hidden': False,\n",
    "          '_pypi_ordering': 125,\n",
    "          'author': 'Glyph Lefkowitz',\n",
    "          'author_email': 'glyph@twistedmatrix.com',\n",
    "          'bugtrack_url': '',\n",
    "          'cheesecake_code_kwalitee_id': None,\n",
    "          'cheesecake_documentation_id': None,\n",
    "          'cheesecake_installability_id': None,\n",
    "          'classifiers': ['Programming Language :: Python :: 2.6',\n",
    "                          'Programming Language :: Python :: 2.7',\n",
    "                          'Programming Language :: Python :: 2 :: Only'],\n",
    "          'description': 'An extensible framework for Python programming, with '\n",
    "                         'special focus\\r\\n'\n",
    "                         'on event-based network programming and multiprotocol '\n",
    "                         'integration.',\n",
    "          'docs_url': '',\n",
    "          'download_url': 'UNKNOWN',\n",
    "          'home_page': 'http://twistedmatrix.com/',\n",
    "          'keywords': '',\n",
    "          'license': 'MIT',\n",
    "          'maintainer': '',\n",
    "          'maintainer_email': '',\n",
    "          'name': 'Twisted',\n",
    "          'package_url': 'http://pypi.python.org/pypi/Twisted',\n",
    "          'platform': 'UNKNOWN',\n",
    "          'release_url': 'http://pypi.python.org/pypi/Twisted/12.3.0',\n",
    "          'requires_python': None,\n",
    "          'stable_version': None,\n",
    "          'summary': 'An asynchronous networking framework written in Python',\n",
    "          'version': '12.3.0'},\n",
    " 'urls': [{'comment_text': '',\n",
    "           'downloads': 71844,\n",
    "           'filename': 'Twisted-12.3.0.tar.bz2',\n",
    "           'has_sig': False,\n",
    "           'md5_digest': '6e289825f3bf5591cfd670874cc0862d',\n",
    "           'packagetype': 'sdist',\n",
    "           'python_version': 'source',\n",
    "           'size': 2615733,\n",
    "           'upload_time': '2012-12-26T12:47:03',\n",
    "           'url': 'https://pypi.python.org/packages/source/T/Twisted/Twisted-12.3.0.tar.bz2'},\n",
    "          {'comment_text': '',\n",
    "           'downloads': 5224,\n",
    "           'filename': 'Twisted-12.3.0.win32-py2.7.msi',\n",
    "           'has_sig': False,\n",
    "           'md5_digest': '6b778f5201b622a5519a2aca1a2fe512',\n",
    "           'packagetype': 'bdist_msi',\n",
    "           'python_version': '2.7',\n",
    "           'size': 2916352,\n",
    "           'upload_time': '2012-12-26T12:48:15',\n",
    "           'url': 'https://pypi.python.org/packages/2.7/T/Twisted/Twisted-12.3.0.win32-py2.7.msi'}]}"
   ]
  },
  {
   "cell_type": "markdown",
   "metadata": {
    "slideshow": {
     "slide_type": "slide"
    }
   },
   "source": [
    "# распаковка последовательности"
   ]
  },
  {
   "cell_type": "code",
   "execution_count": null,
   "metadata": {
    "collapsed": true,
    "slideshow": {
     "slide_type": "fragment"
    }
   },
   "outputs": [],
   "source": [
    "# bad:\n",
    "elems = [4, 7, 18]\n",
    "\n",
    "elem0 = elems[0]\n",
    "elem1 = elems[1]\n",
    "elem2 = elems[2]"
   ]
  },
  {
   "cell_type": "code",
   "execution_count": null,
   "metadata": {
    "collapsed": true,
    "slideshow": {
     "slide_type": "fragment"
    }
   },
   "outputs": [],
   "source": [
    "# good:\n",
    "elems = [4, 7, 18]\n",
    "\n",
    "elem0, elem1, elem2 = elems"
   ]
  },
  {
   "cell_type": "code",
   "execution_count": 39,
   "metadata": {
    "slideshow": {
     "slide_type": "slide"
    }
   },
   "outputs": [
    {
     "name": "stdout",
     "output_type": "stream",
     "text": [
      "6\n",
      "21\n"
     ]
    }
   ],
   "source": [
    "# ещё пример\n",
    "array = [(1, 2, 3), (6, 7, 8)]\n",
    "\n",
    "for one, two, three in array:\n",
    "    print(one + two + three)"
   ]
  },
  {
   "cell_type": "markdown",
   "metadata": {
    "slideshow": {
     "slide_type": "slide"
    }
   },
   "source": [
    "## указание на неважное"
   ]
  },
  {
   "cell_type": "code",
   "execution_count": null,
   "metadata": {
    "slideshow": {
     "slide_type": "fragment"
    }
   },
   "outputs": [],
   "source": [
    "array = [(1, 2, 3), (6, 7, 8)]\n",
    "\n",
    "for one, two, _ in array:\n",
    "    print(one + two)"
   ]
  },
  {
   "cell_type": "code",
   "execution_count": null,
   "metadata": {
    "slideshow": {
     "slide_type": "fragment"
    }
   },
   "outputs": [],
   "source": [
    "array = [(1, 2, 3, 4, 5), (6, 7, 8, 9, 0)]\n",
    "\n",
    "for one, two, *_ in array:\n",
    "    print(one + two)"
   ]
  },
  {
   "cell_type": "markdown",
   "metadata": {
    "slideshow": {
     "slide_type": "slide"
    }
   },
   "source": [
    "# None and bool"
   ]
  },
  {
   "cell_type": "code",
   "execution_count": null,
   "metadata": {
    "collapsed": true
   },
   "outputs": [],
   "source": [
    "# bad:\n",
    "obj == None\n",
    "\n",
    "# good:\n",
    "obj is None"
   ]
  },
  {
   "cell_type": "markdown",
   "metadata": {
    "slideshow": {
     "slide_type": "slide"
    }
   },
   "source": [
    "## избыточная проверка на ничтожественность"
   ]
  },
  {
   "cell_type": "code",
   "execution_count": null,
   "metadata": {
    "collapsed": true,
    "slideshow": {
     "slide_type": "fragment"
    }
   },
   "outputs": [],
   "source": [
    "# bad:\n",
    "def foo(one, two=None):\n",
    "    if two is None:\n",
    "        two = one"
   ]
  },
  {
   "cell_type": "code",
   "execution_count": null,
   "metadata": {
    "collapsed": true,
    "slideshow": {
     "slide_type": "fragment"
    }
   },
   "outputs": [],
   "source": [
    "# good:\n",
    "def foo(one, two=None):\n",
    "    two = two or one"
   ]
  },
  {
   "cell_type": "markdown",
   "metadata": {
    "slideshow": {
     "slide_type": "slide"
    }
   },
   "source": [
    "## непосредственное сравнение с bool"
   ]
  },
  {
   "cell_type": "code",
   "execution_count": null,
   "metadata": {
    "collapsed": true,
    "slideshow": {
     "slide_type": "fragment"
    }
   },
   "outputs": [],
   "source": [
    "# bad:\n",
    "if condition == True:\n",
    "    do()"
   ]
  },
  {
   "cell_type": "code",
   "execution_count": null,
   "metadata": {
    "collapsed": true,
    "slideshow": {
     "slide_type": "fragment"
    }
   },
   "outputs": [],
   "source": [
    "# good:\n",
    "if condition:\n",
    "    do()"
   ]
  },
  {
   "cell_type": "markdown",
   "metadata": {
    "slideshow": {
     "slide_type": "slide"
    }
   },
   "source": [
    "## return True и False"
   ]
  },
  {
   "cell_type": "code",
   "execution_count": null,
   "metadata": {
    "collapsed": true,
    "slideshow": {
     "slide_type": "fragment"
    }
   },
   "outputs": [],
   "source": [
    "# bad:\n",
    "def is_valid(object_):\n",
    "    if check(object_):\n",
    "        return True\n",
    "    else:\n",
    "        return False"
   ]
  },
  {
   "cell_type": "code",
   "execution_count": null,
   "metadata": {
    "collapsed": true,
    "slideshow": {
     "slide_type": "fragment"
    }
   },
   "outputs": [],
   "source": [
    "# good:\n",
    "def is_valid(object_):\n",
    "    return check(object_)"
   ]
  },
  {
   "cell_type": "markdown",
   "metadata": {
    "slideshow": {
     "slide_type": "slide"
    }
   },
   "source": [
    "## приведение к bool"
   ]
  },
  {
   "cell_type": "code",
   "execution_count": null,
   "metadata": {
    "collapsed": true,
    "slideshow": {
     "slide_type": "fragment"
    }
   },
   "outputs": [],
   "source": [
    "# bad:\n",
    "if len(container) > 0:\n",
    "    do()\n",
    "    \n",
    "# good:\n",
    "if container:\n",
    "    do()"
   ]
  },
  {
   "cell_type": "markdown",
   "metadata": {
    "slideshow": {
     "slide_type": "slide"
    }
   },
   "source": [
    "но! работает с гарантией только для встроенных контейнеров (dict, list, ...)\n",
    "\n",
    "пользовательские объекты могут не поддерживать такой протокол"
   ]
  },
  {
   "cell_type": "code",
   "execution_count": null,
   "metadata": {
    "collapsed": true,
    "slideshow": {
     "slide_type": "fragment"
    }
   },
   "outputs": [],
   "source": [
    "# bad:\n",
    "response = requests.get(...)\n",
    "if request.response: # всегда False\n",
    "    do()\n",
    "\n",
    "# good:\n",
    "if request.response is not None:\n",
    "    do()"
   ]
  },
  {
   "cell_type": "markdown",
   "metadata": {
    "slideshow": {
     "slide_type": "slide"
    }
   },
   "source": [
    "# строки"
   ]
  },
  {
   "cell_type": "markdown",
   "metadata": {
    "slideshow": {
     "slide_type": "slide"
    }
   },
   "source": [
    "## кавычки "
   ]
  },
  {
   "cell_type": "code",
   "execution_count": null,
   "metadata": {
    "collapsed": true,
    "slideshow": {
     "slide_type": "fragment"
    }
   },
   "outputs": [],
   "source": [
    "'используйте одинарные кавычки для литералов'"
   ]
  },
  {
   "cell_type": "code",
   "execution_count": null,
   "metadata": {
    "collapsed": true,
    "slideshow": {
     "slide_type": "fragment"
    }
   },
   "outputs": [],
   "source": [
    "\"используйте двойные кавычки только чтобы не экранировать одинарные: don't\""
   ]
  },
  {
   "cell_type": "code",
   "execution_count": null,
   "metadata": {
    "collapsed": true,
    "slideshow": {
     "slide_type": "fragment"
    }
   },
   "outputs": [],
   "source": [
    "\"\"\"oneline docstring\"\"\"\n",
    "\n",
    "\"\"\"multiline \n",
    "docstring\n",
    "\"\"\"\n",
    "\n",
    "\"\"\"\n",
    "multiline \n",
    "literal\n",
    "\"\"\""
   ]
  },
  {
   "cell_type": "markdown",
   "metadata": {
    "slideshow": {
     "slide_type": "slide"
    }
   },
   "source": [
    "# format"
   ]
  },
  {
   "cell_type": "code",
   "execution_count": null,
   "metadata": {
    "collapsed": true,
    "slideshow": {
     "slide_type": "slide"
    }
   },
   "outputs": [],
   "source": [
    "PREFIX = 'Животные делятся на'\n",
    "ANIMAL_TYPES = (\n",
    "    'принадлежащих Императору',\n",
    "    'набальзамированных',\n",
    "    'прирученных',\n",
    "    'отдельных собак',\n",
    "    'включенных в эту классификацию',\n",
    "    'бегающих как сумасшедшие',\n",
    "    'бесчисленных',\n",
    "    'нарисованных тончайшей кистью из верблюжьей шерсти',\n",
    "    'прочих',\n",
    ")"
   ]
  },
  {
   "cell_type": "code",
   "execution_count": 35,
   "metadata": {
    "slideshow": {
     "slide_type": "subslide"
    }
   },
   "outputs": [
    {
     "name": "stdout",
     "output_type": "stream",
     "text": [
      "Животных 9.\n",
      "Животные делятся на:\n",
      "а) принадлежащих Императору\n",
      "б) набальзамированных\n",
      "в) прирученных\n",
      "г) отдельных собак\n",
      "д) включенных в эту классификацию\n",
      "е) бегающих как сумасшедшие\n",
      "ё) бесчисленных\n",
      "ж) нарисованных тончайшей кистью из верблюжьей шерсти\n",
      "з) прочих\n"
     ]
    }
   ],
   "source": [
    "# bad:\n",
    "# не использовать format\n",
    "print('Животных ' + str(len(ANIMAL_TYPES)) + '.\\n'\n",
    "      + PREFIX + ':\\n' + '\\n'.join(k + ') ' + v for k, v in zip('абвгдеёжзи', ANIMAL_TYPES)))"
   ]
  },
  {
   "cell_type": "code",
   "execution_count": 37,
   "metadata": {
    "slideshow": {
     "slide_type": "subslide"
    }
   },
   "outputs": [
    {
     "name": "stdout",
     "output_type": "stream",
     "text": [
      "Животных 9.\n",
      "Животные делятся на:\n",
      "а) принадлежащих Императору\n",
      "б) набальзамированных\n",
      "в) прирученных\n",
      "г) отдельных собак\n",
      "д) включенных в эту классификацию\n",
      "е) бегающих как сумасшедшие\n",
      "ё) бесчисленных\n",
      "ж) нарисованных тончайшей кистью из верблюжьей шерсти\n",
      "з) прочих\n"
     ]
    }
   ],
   "source": [
    "# better\n",
    "animals = ('{}) {}'.format(letter, animal) \n",
    "                for letter, animal in zip('абвгдеёжзи', ANIMAL_TYPES)\n",
    ")\n",
    "print('Животных {count}.\\n{prefix}:\\n{animals}'\n",
    "      .format(\n",
    "        count=len(ANIMAL_TYPES),\n",
    "        prefix=PREFIX,\n",
    "        animals='\\n'.join(animals)\n",
    "      )\n",
    ")"
   ]
  },
  {
   "cell_type": "markdown",
   "metadata": {
    "slideshow": {
     "slide_type": "slide"
    }
   },
   "source": [
    "## использовать фичи format"
   ]
  },
  {
   "cell_type": "code",
   "execution_count": null,
   "metadata": {
    "slideshow": {
     "slide_type": "fragment"
    }
   },
   "outputs": [],
   "source": [
    "person = dict(first='Tobin',age=0)\n",
    "\n",
    "# bad:\n",
    "print('{0} is {1} years old'.format(\n",
    "    person['first'],\n",
    "    person['age'])\n",
    ")"
   ]
  },
  {
   "cell_type": "code",
   "execution_count": null,
   "metadata": {
    "slideshow": {
     "slide_type": "fragment"
    }
   },
   "outputs": [],
   "source": [
    "# better:\n",
    "print('{first} is {age} years old'.format(**person))"
   ]
  },
  {
   "cell_type": "markdown",
   "metadata": {
    "slideshow": {
     "slide_type": "slide"
    }
   },
   "source": [
    "## конкатенация строк"
   ]
  },
  {
   "cell_type": "code",
   "execution_count": null,
   "metadata": {
    "collapsed": true,
    "slideshow": {
     "slide_type": "fragment"
    }
   },
   "outputs": [],
   "source": [
    "# good enough\n",
    "a + b"
   ]
  },
  {
   "cell_type": "code",
   "execution_count": null,
   "metadata": {
    "collapsed": true,
    "slideshow": {
     "slide_type": "fragment"
    }
   },
   "outputs": [],
   "source": [
    "# effective\n",
    "' '.join(list_of_strings)"
   ]
  },
  {
   "cell_type": "markdown",
   "metadata": {
    "slideshow": {
     "slide_type": "slide"
    }
   },
   "source": [
    "# функции"
   ]
  },
  {
   "cell_type": "markdown",
   "metadata": {
    "slideshow": {
     "slide_type": "slide"
    }
   },
   "source": [
    "## mutable defaults"
   ]
  },
  {
   "cell_type": "code",
   "execution_count": null,
   "metadata": {
    "slideshow": {
     "slide_type": "fragment"
    }
   },
   "outputs": [],
   "source": [
    "# bad:\n",
    "def foo(bar=[1, 2]):\n",
    "    bar.append(3)\n",
    "    return bar\n",
    "\n",
    "print(foo())\n",
    "print(foo())"
   ]
  },
  {
   "cell_type": "code",
   "execution_count": null,
   "metadata": {
    "slideshow": {
     "slide_type": "fragment"
    }
   },
   "outputs": [],
   "source": [
    "# good\n",
    "def foo(bar=None):\n",
    "    bar = bar or [1, 2]\n",
    "    bar.append(3)\n",
    "    return bar\n",
    "\n",
    "print(foo())\n",
    "print(foo())"
   ]
  },
  {
   "cell_type": "markdown",
   "metadata": {
    "slideshow": {
     "slide_type": "slide"
    }
   },
   "source": [
    "## keyword vs positional arguments"
   ]
  },
  {
   "cell_type": "code",
   "execution_count": null,
   "metadata": {
    "slideshow": {
     "slide_type": "fragment"
    }
   },
   "outputs": [],
   "source": [
    "# bad:\n",
    "twitter_search('@obama', False, 20, True)"
   ]
  },
  {
   "cell_type": "code",
   "execution_count": null,
   "metadata": {
    "collapsed": true,
    "slideshow": {
     "slide_type": "fragment"
    }
   },
   "outputs": [],
   "source": [
    "# good:\n",
    "twitter_search('@obama', retweets=False, numtweets=20, popular=True)"
   ]
  },
  {
   "cell_type": "markdown",
   "metadata": {
    "slideshow": {
     "slide_type": "slide"
    }
   },
   "source": [
    "# Список литературы\n",
    "* Raymond Hettinger: Transforming Code into Beautiful, Idiomatic Python (PyCon US)\n",
    "  [видос](https://www.youtube.com/watch?v=OSGv2VnC0go) [презенташка](https://speakerdeck.com/pyconslides/transforming-code-into-beautiful-idiomatic-python-by-raymond-hettinger-1)\n",
    "\n",
    "* Raymond Hettinger - Beyond PEP 8 -- Best practices for beautiful intelligible code - PyCon 2015\n",
    "[видос](https://www.youtube.com/watch?v=wf-BqAjZb8M)\n",
    "\n",
    "* [про идиомы](http://docs.quantifiedcode.com/python-anti-patterns/index.html)\n",
    "* [про итераторы](https://nedbatchelder.com/text/iter.html)"
   ]
  },
  {
   "cell_type": "markdown",
   "metadata": {
    "slideshow": {
     "slide_type": "slide"
    }
   },
   "source": [
    "# в следующих сериях\n",
    "\n",
    "* классы\n",
    "* наследование\n",
    "* работа с исключениями\n",
    "* декораторы\n",
    "* контекстные менеджеры\n"
   ]
  },
  {
   "cell_type": "markdown",
   "metadata": {
    "slideshow": {
     "slide_type": "slide"
    }
   },
   "source": [
    "# По домашкам"
   ]
  },
  {
   "cell_type": "code",
   "execution_count": null,
   "metadata": {
    "collapsed": true
   },
   "outputs": [],
   "source": [
    "# Как считать стандартный ввод\n",
    "\n",
    "# одну строку\n",
    "import sys\n",
    "n = int(sys.stdin.readline())\n",
    "\n",
    "# всё оставшееся\n",
    "text = sys.stdin.read()\n",
    "\n",
    "# альтернативный способ\n",
    "for line in sys.stdin.read():\n",
    "    print(line.rstrip())\n",
    "    \n",
    "# только для контестов\n",
    "with open('input.txt') as f:\n",
    "    for line in f:\n",
    "        print(line)\n",
    "        \n",
    "# в бинарном режиме\n",
    "with open('input.txt', 'b') as f:\n",
    "    bin = f.read()"
   ]
  }
 ],
 "metadata": {
  "anaconda-cloud": {},
  "celltoolbar": "Slideshow",
  "kernelspec": {
   "display_name": "Python [Root]",
   "language": "python",
   "name": "Python [Root]"
  },
  "language_info": {
   "codemirror_mode": {
    "name": "ipython",
    "version": 3.0
   },
   "file_extension": ".py",
   "mimetype": "text/x-python",
   "name": "python",
   "nbconvert_exporter": "python",
   "pygments_lexer": "ipython3",
   "version": "3.5.2"
  }
 },
 "nbformat": 4,
 "nbformat_minor": 0
}